{
 "cells": [
  {
   "metadata": {},
   "cell_type": "code",
   "outputs": [],
   "execution_count": null,
   "source": [
    "import os\n",
    "\n",
    "from joblib import delayed\n",
    "\n",
    "from rule.distance_FV import DistanceCompareFVGenerator\n",
    "from rule.distance_NI import DistanceNIGenerator\n",
    "from rule.quantity_FV import QuantityCompareFVGenerator\n",
    "from rule.quantity_NI import QuantityNIGenerator\n",
    "from rule.volume_FV import VolumeCompareFVGenerator\n",
    "from rule.volume_NI import VolumeNIGenerator\n",
    "from utils.io import enum_files\n",
    "from utils.parallel import ParallelTqdm"
   ],
   "id": "ace0d19a97bd1ab7"
  },
  {
   "metadata": {},
   "cell_type": "code",
   "outputs": [],
   "execution_count": null,
   "source": [
    "def generate_questions(\n",
    "        generator_class,\n",
    "        scene_stat_json_file: str,\n",
    "        output_json_file: str,\n",
    "        n_questions: int,\n",
    "):\n",
    "    generator_class(\n",
    "        scene_stat_json_file=scene_stat_json_file,\n",
    "        output_json_file=output_json_file,\n",
    "    ).generate(n_questions=n_questions)"
   ],
   "id": "86c49e9462dc1e36"
  },
  {
   "metadata": {},
   "cell_type": "code",
   "outputs": [],
   "execution_count": null,
   "source": [
    "export_path = '../output'\n",
    "scene_json_dir = '../NUMINA-dataset/ScanNet-scene_stats'\n",
    "\n",
    "tasks = [\n",
    "    (generator, scene_json, os.path.join(export_path, filename), 6)\n",
    "    for scene_json in enum_files(scene_json_dir)\n",
    "    for generator, filename in [\n",
    "        (VolumeNIGenerator, 'NUM-volume-NI.json'),\n",
    "        (VolumeCompareFVGenerator, 'NUM-volume_compare-FV.json'),\n",
    "        (QuantityNIGenerator, 'NUM-count-NI.json'),\n",
    "        (QuantityCompareFVGenerator, 'NUM-count_compare-FV.json'),\n",
    "        (DistanceNIGenerator, 'NUM-distance-NI.json'),\n",
    "        (DistanceCompareFVGenerator, 'NUM-distance_compare-FV.json'),\n",
    "    ]\n",
    "]\n",
    "\n",
    "ParallelTqdm(n_jobs=8)(\n",
    "    delayed(generate_questions)(generator_class, scene_json, output_json, n_questions)\n",
    "    for generator_class, scene_json, output_json, n_questions in tasks[::5]\n",
    ")\n"
   ],
   "id": "d99e7ac5536f4a7a"
  },
  {
   "metadata": {},
   "cell_type": "code",
   "outputs": [],
   "execution_count": null,
   "source": "",
   "id": "b3b86359a4ad4add"
  }
 ],
 "metadata": {
  "kernelspec": {
   "display_name": "py310",
   "language": "python",
   "name": "python3"
  },
  "language_info": {
   "codemirror_mode": {
    "name": "ipython",
    "version": 3
   },
   "file_extension": ".py",
   "mimetype": "text/x-python",
   "name": "python",
   "nbconvert_exporter": "python",
   "pygments_lexer": "ipython3",
   "version": "3.10.14"
  }
 },
 "nbformat": 4,
 "nbformat_minor": 5
}
