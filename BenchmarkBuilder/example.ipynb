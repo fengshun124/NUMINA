{
 "cells": [
  {
   "metadata": {},
   "cell_type": "code",
   "outputs": [],
   "execution_count": null,
   "source": [
    "from joblib import delayed\n",
    "\n",
    "from BenchmarkBuilder.rule.count_SAQ import CountSAQGenerator\n",
    "from BenchmarkBuilder.rule.count_TFQ import CountTFQGenerator\n",
    "from BenchmarkBuilder.rule.distance_SAQ import DistanceSAQGenerator\n",
    "from BenchmarkBuilder.rule.distance_TFQ import DistanceTFQGenerator\n",
    "from BenchmarkBuilder.rule.volume_SAQ import VolumeSAQGenerator\n",
    "from BenchmarkBuilder.rule.volume_TFQ import VolumeTFQGenerator\n",
    "from utils.io import enum_files\n",
    "from utils.parallel import ParallelTqdm"
   ],
   "id": "9120cb15a3b31c28"
  },
  {
   "metadata": {},
   "cell_type": "code",
   "outputs": [],
   "execution_count": null,
   "source": [
    "\n",
    "def generate_questions(\n",
    "        generator_class,\n",
    "        scene_stat_json_file: str,\n",
    "        output_json_file: str,\n",
    "        n_questions: int,\n",
    "):\n",
    "    generator_class(\n",
    "        scene_stat_json_file=scene_stat_json_file,\n",
    "        output_json_file=output_json_file,\n",
    "    ).generate(n_questions=n_questions)"
   ],
   "id": "5d5dd2b74a77f133"
  },
  {
   "metadata": {},
   "cell_type": "code",
   "outputs": [],
   "execution_count": null,
   "source": [
    "export_path = '../output'\n",
    "scene_json_dir = '../NUMINA-dataset/ScanNet-scene_stats'\n",
    "\n",
    "tasks = [\n",
    "    (generator, scene_json, os.path.join(export_path, filename), 6)\n",
    "    for scene_json in enum_files('../ScanNet-scene_stats')\n",
    "    for generator, filename in [\n",
    "        (VolumeSAQGenerator, 'NUM-volume-SAQ.json'),\n",
    "        (VolumeTFQGenerator, 'NUM-volume-TFQ.json'),\n",
    "        (CountSAQGenerator, 'NUM-count-SAQ.json'),\n",
    "        (CountTFQGenerator, 'NUM-count-TFQ.json'),\n",
    "        (DistanceSAQGenerator, 'NUM-distance-SAQ.json'),\n",
    "        (DistanceTFQGenerator, 'NUM-distance-TFQ.json'),\n",
    "    ]\n",
    "]\n",
    "\n",
    "ParallelTqdm(n_jobs=-1)(\n",
    "    delayed(generate_questions)(generator_class, scene_json, output_json, n_questions)\n",
    "    for generator_class, scene_json, output_json, n_questions in tasks\n",
    ")\n"
   ],
   "id": "8126765b523a89b8"
  },
  {
   "metadata": {
    "jupyter": {
     "is_executing": true
    }
   },
   "cell_type": "code",
   "source": "",
   "id": "3a8040bed36f11a8",
   "outputs": [],
   "execution_count": null
  }
 ],
 "metadata": {
  "kernelspec": {
   "display_name": "py310",
   "language": "python",
   "name": "python3"
  },
  "language_info": {
   "codemirror_mode": {
    "name": "ipython",
    "version": 3
   },
   "file_extension": ".py",
   "mimetype": "text/x-python",
   "name": "python",
   "nbconvert_exporter": "python",
   "pygments_lexer": "ipython3",
   "version": "3.10.14"
  }
 },
 "nbformat": 4,
 "nbformat_minor": 5
}
