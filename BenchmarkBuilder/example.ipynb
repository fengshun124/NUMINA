{
 "cells": [
  {
   "metadata": {},
   "cell_type": "code",
   "source": [
    "import os\n",
    "\n",
    "from joblib import delayed\n",
    "\n",
    "from rule.count_SAQ import CountSAQGenerator\n",
    "from rule.count_TFQ import CountCompareTFQGenerator\n",
    "from rule.distance_SAQ import DistanceSAQGenerator\n",
    "from rule.distance_TFQ import DistanceCompareTFQGenerator\n",
    "from rule.volume_SAQ import VolumeSAQGenerator\n",
    "from rule.volume_TFQ import VolumeCompareTFQGenerator\n",
    "from utils.io import enum_files\n",
    "from utils.parallel import ParallelTqdm"
   ],
   "id": "274312dc6eda2ad3",
   "outputs": [],
   "execution_count": null
  },
  {
   "metadata": {},
   "cell_type": "code",
   "source": [
    "def generate_questions(\n",
    "        generator_class,\n",
    "        scene_stat_json_file: str,\n",
    "        output_json_file: str,\n",
    "        n_questions: int,\n",
    "):\n",
    "    generator_class(\n",
    "        scene_stat_json_file=scene_stat_json_file,\n",
    "        output_json_file=output_json_file,\n",
    "    ).generate(n_questions=n_questions)"
   ],
   "id": "cc1ffaa355403313",
   "outputs": [],
   "execution_count": null
  },
  {
   "metadata": {},
   "cell_type": "code",
   "source": [
    "export_path = '../output'\n",
    "scene_json_dir = '../NUMINA-dataset/ScanNet-scene_stats'\n",
    "\n",
    "tasks = [\n",
    "    (generator, scene_json, os.path.join(export_path, filename), 6)\n",
    "    for scene_json in enum_files(scene_json_dir)\n",
    "    for generator, filename in [\n",
    "        (CountSAQGenerator, 'NUM-count-SAQ.json'),\n",
    "        (VolumeSAQGenerator, 'NUM-volume-SAQ.json'),\n",
    "        (DistanceSAQGenerator, 'NUM-distance-SAQ.json'),\n",
    "        (CountCompareTFQGenerator, 'NUM-count_compare-TFQ.json'),\n",
    "        (VolumeCompareTFQGenerator, 'NUM-volume_compare-TFQ.json'),\n",
    "        (DistanceCompareTFQGenerator, 'NUM-distance_compare-TFQ.json'),\n",
    "    ]\n",
    "]\n",
    "\n",
    "ParallelTqdm(n_jobs=8)(\n",
    "    delayed(generate_questions)(generator_class, scene_json, output_json, n_questions)\n",
    "    for generator_class, scene_json, output_json, n_questions in tasks[::5]\n",
    ")\n"
   ],
   "id": "8126765b523a89b8",
   "outputs": [],
   "execution_count": null
  },
  {
   "metadata": {},
   "cell_type": "code",
   "source": "",
   "id": "3a8040bed36f11a8",
   "outputs": [],
   "execution_count": null
  }
 ],
 "metadata": {
  "kernelspec": {
   "display_name": "py310",
   "language": "python",
   "name": "python3"
  },
  "language_info": {
   "codemirror_mode": {
    "name": "ipython",
    "version": 3
   },
   "file_extension": ".py",
   "mimetype": "text/x-python",
   "name": "python",
   "nbconvert_exporter": "python",
   "pygments_lexer": "ipython3",
   "version": "3.10.14"
  }
 },
 "nbformat": 4,
 "nbformat_minor": 5
}
