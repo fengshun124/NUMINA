{
 "cells": [
  {
   "cell_type": "code",
   "id": "initial_id",
   "metadata": {
    "collapsed": true,
    "ExecuteTime": {
     "end_time": "2025-01-13T05:13:34.124714Z",
     "start_time": "2025-01-13T05:13:34.110124Z"
    }
   },
   "source": [
    "from utils.io import enum_files\n",
    "from rule.distance_SAQ import ObjectPairwiseDistanceSAQGenerator"
   ],
   "outputs": [],
   "execution_count": 1
  },
  {
   "metadata": {
    "ExecuteTime": {
     "end_time": "2025-01-13T05:13:34.406252Z",
     "start_time": "2025-01-13T05:13:34.134591Z"
    }
   },
   "cell_type": "code",
   "source": [
    "for scene_json in enum_files('../NUMINA-dataset/'):\n",
    "    ObjectPairwiseDistanceSAQGenerator(\n",
    "        scene_stat_json_file=scene_json,\n",
    "        export_json_file='../output/NUM-distance-SAQ.json',\n",
    "        excluded_labels=['ceiling', 'floor', 'wall', 'object'],\n",
    "    ).generate(n_questions=10, enforce_unique_pairs=True)"
   ],
   "id": "76a7d6c4dddc991b",
   "outputs": [
    {
     "ename": "KeyError",
     "evalue": "'instances'",
     "output_type": "error",
     "traceback": [
      "\u001B[0;31m---------------------------------------------------------------------------\u001B[0m",
      "\u001B[0;31mKeyError\u001B[0m                                  Traceback (most recent call last)",
      "Cell \u001B[0;32mIn[2], line 2\u001B[0m\n\u001B[1;32m      1\u001B[0m \u001B[38;5;28;01mfor\u001B[39;00m scene_json \u001B[38;5;129;01min\u001B[39;00m enum_files(\u001B[38;5;124m'\u001B[39m\u001B[38;5;124m../NUMINA-dataset/\u001B[39m\u001B[38;5;124m'\u001B[39m):\n\u001B[0;32m----> 2\u001B[0m     \u001B[43mDistanceSAQGenerator\u001B[49m\u001B[43m(\u001B[49m\n\u001B[1;32m      3\u001B[0m \u001B[43m        \u001B[49m\u001B[43mscene_stat_json_file\u001B[49m\u001B[38;5;241;43m=\u001B[39;49m\u001B[43mscene_json\u001B[49m\u001B[43m,\u001B[49m\n\u001B[1;32m      4\u001B[0m \u001B[43m        \u001B[49m\u001B[43mexport_json_file\u001B[49m\u001B[38;5;241;43m=\u001B[39;49m\u001B[38;5;124;43m'\u001B[39;49m\u001B[38;5;124;43m../output/NUM-distance-SAQ.json\u001B[39;49m\u001B[38;5;124;43m'\u001B[39;49m\u001B[43m,\u001B[49m\n\u001B[1;32m      5\u001B[0m \u001B[43m        \u001B[49m\u001B[43mexcluded_labels\u001B[49m\u001B[38;5;241;43m=\u001B[39;49m\u001B[43m[\u001B[49m\u001B[38;5;124;43m'\u001B[39;49m\u001B[38;5;124;43mceiling\u001B[39;49m\u001B[38;5;124;43m'\u001B[39;49m\u001B[43m,\u001B[49m\u001B[43m \u001B[49m\u001B[38;5;124;43m'\u001B[39;49m\u001B[38;5;124;43mfloor\u001B[39;49m\u001B[38;5;124;43m'\u001B[39;49m\u001B[43m,\u001B[49m\u001B[43m \u001B[49m\u001B[38;5;124;43m'\u001B[39;49m\u001B[38;5;124;43mwall\u001B[39;49m\u001B[38;5;124;43m'\u001B[39;49m\u001B[43m,\u001B[49m\u001B[43m \u001B[49m\u001B[38;5;124;43m'\u001B[39;49m\u001B[38;5;124;43mobject\u001B[39;49m\u001B[38;5;124;43m'\u001B[39;49m\u001B[43m]\u001B[49m\u001B[43m,\u001B[49m\n\u001B[1;32m      6\u001B[0m \u001B[43m    \u001B[49m\u001B[43m)\u001B[49m\u001B[38;5;241m.\u001B[39mgenerate(n_questions\u001B[38;5;241m=\u001B[39m\u001B[38;5;241m10\u001B[39m, enforce_unique_pairs\u001B[38;5;241m=\u001B[39m\u001B[38;5;28;01mTrue\u001B[39;00m)\n",
      "File \u001B[0;32m~/Desktop/NUMINA/BenchmarkBuilder/rule/distance_SAQ.py:26\u001B[0m, in \u001B[0;36mDistanceSAQGenerator.__init__\u001B[0;34m(self, scene_stat_json_file, export_json_file, excluded_labels)\u001B[0m\n\u001B[1;32m     20\u001B[0m \u001B[38;5;28;01mdef\u001B[39;00m \u001B[38;5;21m__init__\u001B[39m(\n\u001B[1;32m     21\u001B[0m         \u001B[38;5;28mself\u001B[39m,\n\u001B[1;32m     22\u001B[0m         scene_stat_json_file: \u001B[38;5;28mstr\u001B[39m,\n\u001B[1;32m     23\u001B[0m         export_json_file: \u001B[38;5;28mstr\u001B[39m \u001B[38;5;241m=\u001B[39m \u001B[38;5;124m'\u001B[39m\u001B[38;5;124m./output/NUM-distance-SAQ.json\u001B[39m\u001B[38;5;124m'\u001B[39m,\n\u001B[1;32m     24\u001B[0m         excluded_labels: \u001B[38;5;28mlist\u001B[39m[\u001B[38;5;28mstr\u001B[39m] \u001B[38;5;241m|\u001B[39m \u001B[38;5;28;01mNone\u001B[39;00m \u001B[38;5;241m=\u001B[39m \u001B[38;5;28;01mNone\u001B[39;00m,\n\u001B[1;32m     25\u001B[0m ) \u001B[38;5;241m-\u001B[39m\u001B[38;5;241m>\u001B[39m \u001B[38;5;28;01mNone\u001B[39;00m:\n\u001B[0;32m---> 26\u001B[0m     \u001B[38;5;28;43msuper\u001B[39;49m\u001B[43m(\u001B[49m\u001B[43m)\u001B[49m\u001B[38;5;241;43m.\u001B[39;49m\u001B[38;5;21;43m__init__\u001B[39;49m\u001B[43m(\u001B[49m\n\u001B[1;32m     27\u001B[0m \u001B[43m        \u001B[49m\u001B[43mscene_stat_json_file\u001B[49m\u001B[43m,\u001B[49m\n\u001B[1;32m     28\u001B[0m \u001B[43m        \u001B[49m\u001B[43mexport_json_file\u001B[49m\u001B[43m,\u001B[49m\n\u001B[1;32m     29\u001B[0m \u001B[43m        \u001B[49m\u001B[43mexcluded_labels\u001B[49m\u001B[43m,\u001B[49m\n\u001B[1;32m     30\u001B[0m \u001B[43m    \u001B[49m\u001B[43m)\u001B[49m\n",
      "File \u001B[0;32m~/Desktop/NUMINA/BenchmarkBuilder/rule/base.py:161\u001B[0m, in \u001B[0;36mDistanceRelatedQuestionGenerator.__init__\u001B[0;34m(self, scene_stat_json_file, export_json_file, excluded_labels)\u001B[0m\n\u001B[1;32m    155\u001B[0m \u001B[38;5;28;01mdef\u001B[39;00m \u001B[38;5;21m__init__\u001B[39m(\n\u001B[1;32m    156\u001B[0m         \u001B[38;5;28mself\u001B[39m,\n\u001B[1;32m    157\u001B[0m         scene_stat_json_file: \u001B[38;5;28mstr\u001B[39m,\n\u001B[1;32m    158\u001B[0m         export_json_file: \u001B[38;5;28mstr\u001B[39m,\n\u001B[1;32m    159\u001B[0m         excluded_labels: Optional[List[\u001B[38;5;28mstr\u001B[39m]] \u001B[38;5;241m=\u001B[39m \u001B[38;5;28;01mNone\u001B[39;00m,\n\u001B[1;32m    160\u001B[0m ) \u001B[38;5;241m-\u001B[39m\u001B[38;5;241m>\u001B[39m \u001B[38;5;28;01mNone\u001B[39;00m:\n\u001B[0;32m--> 161\u001B[0m     \u001B[38;5;28;43msuper\u001B[39;49m\u001B[43m(\u001B[49m\u001B[43m)\u001B[49m\u001B[38;5;241;43m.\u001B[39;49m\u001B[38;5;21;43m__init__\u001B[39;49m\u001B[43m(\u001B[49m\n\u001B[1;32m    162\u001B[0m \u001B[43m        \u001B[49m\u001B[43mscene_stat_json_file\u001B[49m\u001B[43m,\u001B[49m\n\u001B[1;32m    163\u001B[0m \u001B[43m        \u001B[49m\u001B[43mexport_json_file\u001B[49m\u001B[43m,\u001B[49m\n\u001B[1;32m    164\u001B[0m \u001B[43m        \u001B[49m\u001B[43mexcluded_labels\u001B[49m\u001B[43m,\u001B[49m\n\u001B[1;32m    165\u001B[0m \u001B[43m        \u001B[49m\u001B[43mrequire_singleton_objs\u001B[49m\u001B[38;5;241;43m=\u001B[39;49m\u001B[38;5;28;43;01mTrue\u001B[39;49;00m\n\u001B[1;32m    166\u001B[0m \u001B[43m    \u001B[49m\u001B[43m)\u001B[49m\n\u001B[1;32m    167\u001B[0m     \u001B[38;5;28mself\u001B[39m\u001B[38;5;241m.\u001B[39m_pairwise_distance_dict \u001B[38;5;241m=\u001B[39m \u001B[38;5;28mself\u001B[39m\u001B[38;5;241m.\u001B[39m_enum_valid_obj_pair_distance_dict()\n",
      "File \u001B[0;32m~/Desktop/NUMINA/BenchmarkBuilder/rule/base.py:24\u001B[0m, in \u001B[0;36mRuleBasedQuestionGenerator.__init__\u001B[0;34m(self, scene_stat_json_file, export_json_file, excluded_labels, require_singleton_objs)\u001B[0m\n\u001B[1;32m     16\u001B[0m \u001B[38;5;28;01mdef\u001B[39;00m \u001B[38;5;21m__init__\u001B[39m(\n\u001B[1;32m     17\u001B[0m         \u001B[38;5;28mself\u001B[39m,\n\u001B[1;32m     18\u001B[0m         scene_stat_json_file: \u001B[38;5;28mstr\u001B[39m,\n\u001B[0;32m   (...)\u001B[0m\n\u001B[1;32m     21\u001B[0m         require_singleton_objs: \u001B[38;5;28mbool\u001B[39m \u001B[38;5;241m=\u001B[39m \u001B[38;5;28;01mFalse\u001B[39;00m,\n\u001B[1;32m     22\u001B[0m ) \u001B[38;5;241m-\u001B[39m\u001B[38;5;241m>\u001B[39m \u001B[38;5;28;01mNone\u001B[39;00m:\n\u001B[1;32m     23\u001B[0m \u001B[38;5;250m    \u001B[39m\u001B[38;5;124;03m\"\"\"Initialize rule-based question generator\"\"\"\u001B[39;00m\n\u001B[0;32m---> 24\u001B[0m     \u001B[38;5;28mself\u001B[39m\u001B[38;5;241m.\u001B[39mscene_data \u001B[38;5;241m=\u001B[39m \u001B[43mSceneData\u001B[49m\u001B[43m(\u001B[49m\u001B[43mscene_stat_json_file\u001B[49m\u001B[43m)\u001B[49m\n\u001B[1;32m     26\u001B[0m     \u001B[38;5;66;03m# configure valid instances\u001B[39;00m\n\u001B[1;32m     27\u001B[0m     \u001B[38;5;28mself\u001B[39m\u001B[38;5;241m.\u001B[39mexcluded_labels \u001B[38;5;241m=\u001B[39m \u001B[38;5;28mset\u001B[39m(excluded_labels \u001B[38;5;129;01mor\u001B[39;00m \u001B[38;5;28mself\u001B[39m\u001B[38;5;241m.\u001B[39mDEFAULT_EXCLUDED_OBJ_LABELS)\n",
      "File \u001B[0;32m~/Desktop/NUMINA/BenchmarkBuilder/utils/scene.py:38\u001B[0m, in \u001B[0;36mSceneData.__init__\u001B[0;34m(self, scene_stat_json_file)\u001B[0m\n\u001B[1;32m     36\u001B[0m \u001B[38;5;28mself\u001B[39m\u001B[38;5;241m.\u001B[39mscene_stat_dict \u001B[38;5;241m=\u001B[39m load_json_file_as_dict(scene_stat_json_file)[\u001B[38;5;241m0\u001B[39m]\n\u001B[1;32m     37\u001B[0m \u001B[38;5;28mself\u001B[39m\u001B[38;5;241m.\u001B[39mscene_id \u001B[38;5;241m=\u001B[39m \u001B[38;5;28mself\u001B[39m\u001B[38;5;241m.\u001B[39mscene_stat_dict[\u001B[38;5;124m'\u001B[39m\u001B[38;5;124mscene_id\u001B[39m\u001B[38;5;124m'\u001B[39m]\n\u001B[0;32m---> 38\u001B[0m \u001B[38;5;28mself\u001B[39m\u001B[38;5;241m.\u001B[39minstances \u001B[38;5;241m=\u001B[39m [SceneInstance(\u001B[38;5;241m*\u001B[39m\u001B[38;5;241m*\u001B[39minst) \u001B[38;5;28;01mfor\u001B[39;00m inst \u001B[38;5;129;01min\u001B[39;00m \u001B[38;5;28;43mself\u001B[39;49m\u001B[38;5;241;43m.\u001B[39;49m\u001B[43mscene_stat_dict\u001B[49m\u001B[43m[\u001B[49m\u001B[38;5;124;43m'\u001B[39;49m\u001B[38;5;124;43minstances\u001B[39;49m\u001B[38;5;124;43m'\u001B[39;49m\u001B[43m]\u001B[49m]\n\u001B[1;32m     40\u001B[0m \u001B[38;5;28mself\u001B[39m\u001B[38;5;241m.\u001B[39m_instance_map \u001B[38;5;241m=\u001B[39m \u001B[38;5;28mself\u001B[39m\u001B[38;5;241m.\u001B[39mscene_stat_dict[\u001B[38;5;124m'\u001B[39m\u001B[38;5;124minstance_map\u001B[39m\u001B[38;5;124m'\u001B[39m]\n\u001B[1;32m     41\u001B[0m \u001B[38;5;28mself\u001B[39m\u001B[38;5;241m.\u001B[39m_object_map \u001B[38;5;241m=\u001B[39m \u001B[38;5;28mself\u001B[39m\u001B[38;5;241m.\u001B[39mscene_stat_dict[\u001B[38;5;124m'\u001B[39m\u001B[38;5;124mobject_map\u001B[39m\u001B[38;5;124m'\u001B[39m]\n",
      "\u001B[0;31mKeyError\u001B[0m: 'instances'"
     ]
    }
   ],
   "execution_count": 2
  },
  {
   "metadata": {},
   "cell_type": "code",
   "outputs": [],
   "execution_count": null,
   "source": "",
   "id": "f4c4b195a9ad8749"
  }
 ],
 "metadata": {
  "kernelspec": {
   "display_name": "Python 3",
   "language": "python",
   "name": "python3"
  },
  "language_info": {
   "codemirror_mode": {
    "name": "ipython",
    "version": 2
   },
   "file_extension": ".py",
   "mimetype": "text/x-python",
   "name": "python",
   "nbconvert_exporter": "python",
   "pygments_lexer": "ipython2",
   "version": "2.7.6"
  }
 },
 "nbformat": 4,
 "nbformat_minor": 5
}
