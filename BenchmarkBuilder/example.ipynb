{
 "cells": [
  {
   "cell_type": "code",
   "id": "initial_id",
   "metadata": {
    "collapsed": true
   },
   "source": [
    "from tqdm.auto import tqdm\n",
    "\n",
    "from utils.io import enum_files\n",
    "from rule.distance_SAQ import Dis\n",
    "from rule.distance_compare_TFQ import DistanceCompareTFQGenerator\n",
    "from rule.count_SAQ import CountSAQGenerator\n",
    "from rule.volume_SAQ import VolumeSAQGenerator"
   ],
   "outputs": [],
   "execution_count": null
  },
  {
   "cell_type": "code",
   "id": "76a7d6c4dddc991b",
   "metadata": {},
   "source": [
    "for scene_json in tqdm(\n",
    "    enum_files('../NUMINA-dataset/ScanNet-scene_stats'),\n",
    "    desc='Processing'\n",
    "):\n",
    "    DistanceCompareTFQGenerator(\n",
    "        scene_stat_json_file=scene_json,\n",
    "        export_json_file='../output/NUM-distance-SAQ.json',\n",
    "        excluded_labels=['ceiling', 'floor', 'wall', 'object'],\n",
    "    ).generate(n_questions=6, enforce_unique_pairs=True)"
   ],
   "outputs": [],
   "execution_count": null
  },
  {
   "cell_type": "code",
   "id": "92e36ff6",
   "metadata": {},
   "source": [
    "for scene_json in tqdm(\n",
    "    enum_files('../NUMINA-dataset/ScanNet-scene_stats'),\n",
    "    desc='Processing'\n",
    "):\n",
    "    DistanceSAQGenerator(\n",
    "        scene_stat_json_file=scene_json,\n",
    "        export_json_file='../output/NUM-distance-SAQ.json',\n",
    "        excluded_labels=['ceiling', 'floor', 'wall', 'object'],\n",
    "    ).generate(n_questions=10, enforce_unique_pairs=True)"
   ],
   "outputs": [],
   "execution_count": null
  },
  {
   "cell_type": "code",
   "id": "f4c4b195a9ad8749",
   "metadata": {},
   "source": [
    "for scene_json in tqdm(\n",
    "    enum_files('../NUMINA-dataset/ScanNet-scene_stats'),\n",
    "    desc='Processing'\n",
    "):\n",
    "    CountSAQGenerator(\n",
    "        scene_stat_json_file=scene_json,\n",
    "        export_json_file='../output/NUM-count-SAQ.json',\n",
    "        excluded_labels=['ceiling', 'floor', 'wall', 'object'],\n",
    "    ).generate(n_questions=10, enforce_unique_labels=True)"
   ],
   "outputs": [],
   "execution_count": null
  },
  {
   "cell_type": "code",
   "id": "84b4eab5",
   "metadata": {},
   "source": [
    "for scene_json in tqdm(\n",
    "    enum_files('../NUMINA-dataset/ScanNet-scene_stats'),\n",
    "    desc='Processing'\n",
    "):\n",
    "    VolumeSAQGenerator(\n",
    "        scene_stat_json_file=scene_json,\n",
    "        export_json_file='../output/NUM-volume-SAQ.json',\n",
    "        excluded_labels=['ceiling', 'floor', 'wall', 'object'],\n",
    "    ).generate(n_questions=10, enforce_unique_labels=True)"
   ],
   "outputs": [],
   "execution_count": null
  }
 ],
 "metadata": {
  "kernelspec": {
   "display_name": "py310",
   "language": "python",
   "name": "python3"
  },
  "language_info": {
   "codemirror_mode": {
    "name": "ipython",
    "version": 3
   },
   "file_extension": ".py",
   "mimetype": "text/x-python",
   "name": "python",
   "nbconvert_exporter": "python",
   "pygments_lexer": "ipython3",
   "version": "3.10.14"
  }
 },
 "nbformat": 4,
 "nbformat_minor": 5
}
